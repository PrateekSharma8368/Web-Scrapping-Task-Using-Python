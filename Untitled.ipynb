{
 "cells": [
  {
   "cell_type": "code",
   "execution_count": 12,
   "id": "e269629c-880c-4ffe-9dbd-0f96581bc178",
   "metadata": {},
   "outputs": [],
   "source": [
    "import requests\n",
    "from bs4 import BeautifulSoup\n",
    "import pandas as pd\n",
    "import time\n",
    "import random\n",
    "import csv\n",
    "from concurrent.futures import ThreadPoolExecutor\n",
    "import aiohttp\n",
    "import asyncio"
   ]
  },
  {
   "cell_type": "code",
   "execution_count": 13,
   "id": "466c56c4-1477-4d03-a60d-54387bf8c2b6",
   "metadata": {},
   "outputs": [],
   "source": [
    "# List of states (or cities) in India to search for\n",
    "cities = ['delhi', 'mumbai', 'bangalore', 'hyderabad', 'chennai']"
   ]
  },
  {
   "cell_type": "code",
   "execution_count": 14,
   "id": "2484a345-6231-402d-bd0d-1eaf8f77ab45",
   "metadata": {},
   "outputs": [],
   "source": [
    "# Initialize an empty list to hold all company data\n",
    "all_companies_data = []"
   ]
  },
  {
   "cell_type": "code",
   "execution_count": 15,
   "id": "069268a6-1673-4b09-8b11-7c8d9016369d",
   "metadata": {},
   "outputs": [],
   "source": [
    "# Function to scrape data for one city asynchronously\n",
    "async def scrape_city_data(city, session):\n",
    "    url = f'https://www.justdial.com/{city}/IT-Solution-Providers'  # Adjust the URL based on the city\n",
    "    headers = {\n",
    "        'User-Agent': 'Mozilla/5.0 (Windows NT 10.0; Win64; x64) AppleWebKit/537.36 (KHTML, like Gecko) Chrome/58.0.3029.110 Safari/537.36'\n",
    "    }\n",
    "\n",
    "    # Make the request asynchronously\n",
    "    async with session.get(url, headers=headers) as response:\n",
    "        if response.status == 200:\n",
    "            print(f\"Scraping data for {city}...\")\n",
    "            \n",
    "            # Parse the page content with BeautifulSoup\n",
    "            soup = BeautifulSoup(await response.text(), 'html.parser')\n",
    "            \n",
    "            # Find all company listings (limit to 6-8 companies)\n",
    "            companies = soup.find_all('li', class_='cntanr')[:8]  # Adjust based on Justdial's HTML structure\n",
    "            \n",
    "            # Extract the required company details\n",
    "            city_data = []\n",
    "            for company in companies:\n",
    "                # Extract company details\n",
    "                try:\n",
    "                    name = company.find('span', class_='lng_cont_name').text.strip()\n",
    "                except AttributeError:\n",
    "                    name = 'N/A'\n",
    "                # Check if the phone number is available or if it's \"Show Number\"\n",
    "                try:\n",
    "                    phone = company.find('p', class_='contact-info').text.strip()\n",
    "                    if 'Show Number' in phone:\n",
    "                        phone = 'N/A'\n",
    "                except AttributeError:\n",
    "                    phone = 'N/A'\n",
    "                try:\n",
    "                    address = company.find('span', class_='cont_fl_addr').text.strip()\n",
    "                except AttributeError:\n",
    "                    address = 'N/A'\n",
    "                category = 'Marketing Agencies'  # Static for this example\n",
    "                email = 'N/A'  # Emails are usually not listed on Justdial\n",
    "\n",
    "                # Append company data to the city list\n",
    "                city_data.append({\n",
    "                    'Company Name': name,\n",
    "                    'Contact Number': phone,\n",
    "                    'Location/Address': address,\n",
    "                    'Industry/Category': category,\n",
    "                    'Email Address': email,\n",
    "                    'City': city  # Include the city for reference\n",
    "                })\n",
    "\n",
    "            # Append data for the city\n",
    "            all_companies_data.extend(city_data)\n",
    "            \n",
    "            # Introduce a random delay to avoid overloading the server\n",
    "            await asyncio.sleep(random.uniform(1, 3))\n",
    "        else:\n",
    "            print(f\"Failed to retrieve data for {city} (Status Code: {response.status})\")"
   ]
  },
  {
   "cell_type": "code",
   "execution_count": 16,
   "id": "227c045f-5d6e-4132-ad03-a066b03f85d1",
   "metadata": {},
   "outputs": [],
   "source": [
    "# Main function to run the scraping tasks in parallel using asyncio\n",
    "async def main():\n",
    "    async with aiohttp.ClientSession() as session:\n",
    "        tasks = []\n",
    "        \n",
    "        for city in cities:\n",
    "            tasks.append(scrape_city_data(city, session))  # Add tasks for each city\n",
    "            \n",
    "        # Run tasks concurrently\n",
    "        await asyncio.gather(*tasks)"
   ]
  },
  {
   "cell_type": "code",
   "execution_count": 17,
   "id": "17751758-0867-4d4c-a2a9-d2abb97d26a5",
   "metadata": {},
   "outputs": [
    {
     "name": "stdout",
     "output_type": "stream",
     "text": [
      "Scraping data for hyderabad...\n",
      "Scraping data for bangalore...\n",
      "Scraping data for mumbai...\n",
      "Scraping data for chennai...\n",
      "Scraping data for delhi...\n"
     ]
    }
   ],
   "source": [
    "# Run the async scraping tasks directly in the existing event loop\n",
    "await main()"
   ]
  },
  {
   "cell_type": "code",
   "execution_count": 18,
   "id": "b680bcf2-3a35-4a9f-9c7e-d74c3542246c",
   "metadata": {},
   "outputs": [
    {
     "name": "stdout",
     "output_type": "stream",
     "text": [
      "{'Company Name': 'Design Blocks', 'Contact Number': 'N/A', 'Location/Address': 'Main Road, Hitech City, Hyderabad - 500081, Near By D Mart', 'Industry/Category': 'Marketing Agencies', 'Email Address': 'N/A', 'City': 'hyderabad'}\n",
      "{'Company Name': 'Milestone Corporate Service..', 'Contact Number': 'N/A', 'Location/Address': 'Flat No 9-1-127/3 A 43, SD ROAD, Secunderabad City, Secunderabad - 500003, Near By Deccan Cronicle Office', 'Industry/Category': 'Marketing Agencies', 'Email Address': 'N/A', 'City': 'hyderabad'}\n",
      "{'Company Name': 'Bharat Gps Tracker', 'Contact Number': 'N/A', 'Location/Address': 'House No 23-49/12, Madhapur, Hyderabad - 500081', 'Industry/Category': 'Marketing Agencies', 'Email Address': 'N/A', 'City': 'hyderabad'}\n",
      "{'Company Name': 'Adonai Graphics & Media Wor..', 'Contact Number': 'N/A', 'Location/Address': 'Door No: 1-1-571, Gandhi Nagar, Golconda X Roads, Hyderabad - 500020, Beside Hebron Church Near Rtc X Roads', 'Industry/Category': 'Marketing Agencies', 'Email Address': 'N/A', 'City': 'hyderabad'}\n",
      "{'Company Name': 'Sg Web App Techniques Pvt L..', 'Contact Number': 'N/A', 'Location/Address': 'Hyderabad, Hyderguda, Hyderabad - 500001', 'Industry/Category': 'Marketing Agencies', 'Email Address': 'N/A', 'City': 'hyderabad'}\n",
      "{'Company Name': 'Gsna Education', 'Contact Number': 'N/A', 'Location/Address': 'Main Road, Near Mahankali Temple, Uppal, Hyderabad - 500039', 'Industry/Category': 'Marketing Agencies', 'Email Address': 'N/A', 'City': 'hyderabad'}\n",
      "{'Company Name': 'Briltus Services', 'Contact Number': 'N/A', 'Location/Address': 'Level-1, Spacion Towers, Madhapur, Hyderabad - 500081, Near to Westin Hotel', 'Industry/Category': 'Marketing Agencies', 'Email Address': 'N/A', 'City': 'hyderabad'}\n",
      "{'Company Name': 'Media Wagon', 'Contact Number': 'N/A', 'Location/Address': '168 Street 11, 1st Floor, Shaikpet, Hyderabad - 500008, Arvind Nagar Colony', 'Industry/Category': 'Marketing Agencies', 'Email Address': 'N/A', 'City': 'hyderabad'}\n",
      "{'Company Name': 'Layots Technologies Pvt Ltd', 'Contact Number': 'N/A', 'Location/Address': 'No 301/302, 3rd Floor, Sarjapur Main Road, Doddakannelli, Bangalore - 560035, Near Saket Callipolis,  Insta Office', 'Industry/Category': 'Marketing Agencies', 'Email Address': 'N/A', 'City': 'bangalore'}\n",
      "{'Company Name': 'Lantrn Marketing', 'Contact Number': 'N/A', 'Location/Address': 'Brigade IRV 9TH Floor, Nallurhalli Road, Whitefield, Bangalore - 560066', 'Industry/Category': 'Marketing Agencies', 'Email Address': 'N/A', 'City': 'bangalore'}\n",
      "{'Company Name': 'IZAR Technology Solutions', 'Contact Number': 'N/A', 'Location/Address': 'No.35, Level 1, Business Center, Central Street, Infantry Road, Bangalore - 560001', 'Industry/Category': 'Marketing Agencies', 'Email Address': 'N/A', 'City': 'bangalore'}\n",
      "{'Company Name': 'Prabhat It Solutions Pvt Lt..', 'Contact Number': 'N/A', 'Location/Address': 'No.3/118, Jayanagar, Bangalore - 560011, Near Ganesh Dosa Camp', 'Industry/Category': 'Marketing Agencies', 'Email Address': 'N/A', 'City': 'bangalore'}\n",
      "{'Company Name': 'Fcoos Technologies Pvt Ltd', 'Contact Number': 'N/A', 'Location/Address': 'No.3/7-5, 1st Floor, 3rd Cross, (Off. Hosur Road, Old Name), Off. Dr/ M.H.Marriyappa Road, Madiwala Post, 2nd Block, Koramangala, Bangalore - 560034, Opposite to Manappuram Gold Loan', 'Industry/Category': 'Marketing Agencies', 'Email Address': 'N/A', 'City': 'bangalore'}\n",
      "{'Company Name': 'Cvr Enterprises', 'Contact Number': 'N/A', 'Location/Address': 'Building No-203/1, 5th Cross, K. N Extension, Yeshwanthpur, Bangalore - 560022, Near Priyadarshini Hotel', 'Industry/Category': 'Marketing Agencies', 'Email Address': 'N/A', 'City': 'bangalore'}\n",
      "{'Company Name': 'Versalence', 'Contact Number': 'N/A', 'Location/Address': 'No : 720, Ascot , Raja Aristos, Doddakamanahalli Main Road, Hulimavu, Bangalore - 560076, NR Maruthi Dental College', 'Industry/Category': 'Marketing Agencies', 'Email Address': 'N/A', 'City': 'bangalore'}\n",
      "{'Company Name': 'S L Networks', 'Contact Number': 'N/A', 'Location/Address': '3rd Cross, 38th Main Road,JP Nagar 6th Phase, Jp Nagar 6th Phase, Bangalore - 560078, Near BANK OF INDIA', 'Industry/Category': 'Marketing Agencies', 'Email Address': 'N/A', 'City': 'bangalore'}\n",
      "{'Company Name': 'Salt Tech Software Services..', 'Contact Number': 'N/A', 'Location/Address': '12 4th Floor Emfotech Business Park, Road No 16, Wagle Industrial Estate, Wagle Industrial Estate-Thane West, Thane - 400604, Opp Old Passport Office', 'Industry/Category': 'Marketing Agencies', 'Email Address': 'N/A', 'City': 'mumbai'}\n",
      "{'Company Name': 'Bits N Byte Computer and Ne..', 'Contact Number': 'N/A', 'Location/Address': 'Siddheshwar C.H.S Plot No. 105 Shop. 201, Vashi Station Road, Kopar Khairane, Navi Mumbai - 400709, Near Varishta Hotel', 'Industry/Category': 'Marketing Agencies', 'Email Address': 'N/A', 'City': 'mumbai'}\n",
      "{'Company Name': 'Arp It Solutions', 'Contact Number': 'N/A', 'Location/Address': 'Office No 6, Acme Industrial Park, I B Patel Road, Goregaon East, Mumbai - 400063, Near The Fern', 'Industry/Category': 'Marketing Agencies', 'Email Address': 'N/A', 'City': 'mumbai'}\n",
      "{'Company Name': 'Printech', 'Contact Number': 'N/A', 'Location/Address': 'Ground Floor , Ckp Building, Sb Marg, Dadar West, Mumbai - 400028, Near Station', 'Industry/Category': 'Marketing Agencies', 'Email Address': 'N/A', 'City': 'mumbai'}\n",
      "{'Company Name': 'Brightek Solutions', 'Contact Number': 'N/A', 'Location/Address': 'Anantibai Devidas Kuril Chawl, Amba Wadi, SV Road, Dahisar East, Mumbai - 400068, Near Amba Wadi', 'Industry/Category': 'Marketing Agencies', 'Email Address': 'N/A', 'City': 'mumbai'}\n",
      "{'Company Name': 'Corebyte System Pvt Ltd', 'Contact Number': 'N/A', 'Location/Address': '217, Cama Industrial Estate, Sunmill Compound, Sitaram Jadhav Marg,, Lower Parel, Mumbai - 400013', 'Industry/Category': 'Marketing Agencies', 'Email Address': 'N/A', 'City': 'mumbai'}\n",
      "{'Company Name': 'Fast-Five Network Solutions', 'Contact Number': 'N/A', 'Location/Address': '(Office 1: Nalasopara East) (Office 2: Goregaon East) Head Office:7A Rajiv Gandhi Complex, Old Link Road, Kandivali West, Mumbai - 400067, Opposite Ashish Hotel', 'Industry/Category': 'Marketing Agencies', 'Email Address': 'N/A', 'City': 'mumbai'}\n",
      "{'Company Name': 'Techbharti', 'Contact Number': 'N/A', 'Location/Address': 'Technocity IT Premises, TTC Industrial Area, Mahape MIDC, TTC Industrial Area, Mahape MIDC, Mahape, Navi Mumbai - 400710, Above ICICI Bank, Nr.Sarovar Practico Hotel', 'Industry/Category': 'Marketing Agencies', 'Email Address': 'N/A', 'City': 'mumbai'}\n",
      "{'Company Name': 'NRS Systems & Technologies ..', 'Contact Number': 'N/A', 'Location/Address': 'No 8, South Kavarai Street, West Mambalam, Chennai - 600033, Near Mettupalayam Bus Stop', 'Industry/Category': 'Marketing Agencies', 'Email Address': 'N/A', 'City': 'chennai'}\n",
      "{'Company Name': 'Fcoos Technologies Pvt Ltd', 'Contact Number': 'N/A', 'Location/Address': 'Hi - Techno Sai Krish, Block 1, Flat G2, Plot No: 85, 4th Main Road, CBI Colony, Kandanchavadi, Chennai - 600096', 'Industry/Category': 'Marketing Agencies', 'Email Address': 'N/A', 'City': 'chennai'}\n",
      "{'Company Name': 'Tick Network-Giri Trading A..', 'Contact Number': 'N/A', 'Location/Address': 'C/O Giri Trading Agency Private Limited, Mangadu, 372/1 Koot Road, Pattur, Chennai - 600122', 'Industry/Category': 'Marketing Agencies', 'Email Address': 'N/A', 'City': 'chennai'}\n",
      "{'Company Name': 'Axiom Infotech Pvt Ltd', 'Contact Number': 'N/A', 'Location/Address': 'New No 7, 2A. Saikriba Dev Appt,(Canara Bank Building) 2nd F, 1st Main Road,Kasturba Nagar,, Adyar, Chennai - 600020, Canara Bank Building,Opp to Reliance Trendz,', 'Industry/Category': 'Marketing Agencies', 'Email Address': 'N/A', 'City': 'chennai'}\n",
      "{'Company Name': 'Michtam Tecno Solution Priv..', 'Contact Number': 'N/A', 'Location/Address': '150/89, 2nd Floor, Cisons Complex, Red Cross Road, Egmore, Chennai - 600008', 'Industry/Category': 'Marketing Agencies', 'Email Address': 'N/A', 'City': 'chennai'}\n",
      "{'Company Name': 'Target Computers', 'Contact Number': 'N/A', 'Location/Address': 'No 48, Madipakkam Main Road,, Madipakkam, Chennai - 600091, Near SAI Matriculation School', 'Industry/Category': 'Marketing Agencies', 'Email Address': 'N/A', 'City': 'chennai'}\n",
      "{'Company Name': 'Netcom Av Techno Solutions ..', 'Contact Number': 'N/A', 'Location/Address': 'No 1/1, 13th Cross Street, Venkateshwara Nagar, Ramapuram, Chennai - 600089, Opp DLF IT Park', 'Industry/Category': 'Marketing Agencies', 'Email Address': 'N/A', 'City': 'chennai'}\n",
      "{'Company Name': 'Mashma Computers', 'Contact Number': 'N/A', 'Location/Address': 'No 17/19 Nakoda Plaza 1st Floor, Narasingapuram Street, Mount Road, Chennai - 600002, Near to Casino Theatre', 'Industry/Category': 'Marketing Agencies', 'Email Address': 'N/A', 'City': 'chennai'}\n",
      "{'Company Name': 'Live Solution Wale Private ..', 'Contact Number': 'N/A', 'Location/Address': 'B-1234 1 Floor, Mukherjee Nagar, Delhi - 110009, Near Chawla Resturant', 'Industry/Category': 'Marketing Agencies', 'Email Address': 'N/A', 'City': 'delhi'}\n",
      "{'Company Name': 'Om Sai Techno Services Pvt ..', 'Contact Number': 'N/A', 'Location/Address': '4551- 56/16, 1ST FLOOR SHANTI MOHAN HOUSE, ANSARI ROAD, Darya Ganj, Delhi - 110002, Near Happy School', 'Industry/Category': 'Marketing Agencies', 'Email Address': 'N/A', 'City': 'delhi'}\n",
      "{'Company Name': 'Gventure Technology Pvt Ltd', 'Contact Number': 'N/A', 'Location/Address': 'NX One, Noida Extension, Noida - 201305, Gaur City', 'Industry/Category': 'Marketing Agencies', 'Email Address': 'N/A', 'City': 'delhi'}\n",
      "{'Company Name': 'Megha It Services and Solut..', 'Contact Number': 'N/A', 'Location/Address': 'E - 2, Noida Sector 63, Noida - 201301, Public Choki', 'Industry/Category': 'Marketing Agencies', 'Email Address': 'N/A', 'City': 'delhi'}\n",
      "{'Company Name': 'Ramdas Infotech Pvt Ltd', 'Contact Number': 'N/A', 'Location/Address': 'Office Address:-A-441 B, 4th Floor, Tower A, Golden I, Ocean Golden I, Greater Noida, Greater Noida - 201310, Gaur Chowk, Noida Extension', 'Industry/Category': 'Marketing Agencies', 'Email Address': 'N/A', 'City': 'delhi'}\n",
      "{'Company Name': 'Ncl Systems Private Limited', 'Contact Number': 'N/A', 'Location/Address': 'Building No -D-59,Lower Ground Floor, SECTOR-63, Noida Sector 63, Noida - 201301, Main Road', 'Industry/Category': 'Marketing Agencies', 'Email Address': 'N/A', 'City': 'delhi'}\n",
      "{'Company Name': 'Planet Retail', 'Contact Number': 'N/A', 'Location/Address': 'B46, Block B NOIDA SECTOR 57, Noida Sector 57, Noida - 201301, Near Green Park', 'Industry/Category': 'Marketing Agencies', 'Email Address': 'N/A', 'City': 'delhi'}\n",
      "{'Company Name': 'Aditi Compunet', 'Contact Number': 'N/A', 'Location/Address': 'Office No - 520 , 5th Floor, Noida Sector 18, Noida - 201301, Above Maruti Suzuki Showroom', 'Industry/Category': 'Marketing Agencies', 'Email Address': 'N/A', 'City': 'delhi'}\n"
     ]
    }
   ],
   "source": [
    "# Optionally, print the collected data\n",
    "for company in all_companies_data:\n",
    "    print(company)"
   ]
  },
  {
   "cell_type": "code",
   "execution_count": 19,
   "id": "9ee12f0b-979b-4d03-8e28-45625b998326",
   "metadata": {},
   "outputs": [
    {
     "name": "stdout",
     "output_type": "stream",
     "text": [
      "Data has been saved to companies_data.csv\n"
     ]
    }
   ],
   "source": [
    "# Save the collected data into a CSV file\n",
    "csv_file = 'companies_data.csv'\n",
    "\n",
    "# Define the headers for the CSV file\n",
    "headers = ['Company Name', 'Contact Number', 'Location/Address', 'Industry/Category', 'Email Address', 'City']\n",
    "\n",
    "# Write the data to CSV file\n",
    "with open(csv_file, mode='w', newline='', encoding='utf-8') as file:\n",
    "    writer = csv.DictWriter(file, fieldnames=headers)\n",
    "    writer.writeheader()  # Write the header row\n",
    "    writer.writerows(all_companies_data)  # Write the data rows\n",
    "\n",
    "print(f\"Data has been saved to {csv_file}\")"
   ]
  },
  {
   "cell_type": "code",
   "execution_count": null,
   "id": "afa3e17e-80ec-48b9-8d6b-40039b4227f2",
   "metadata": {},
   "outputs": [],
   "source": []
  }
 ],
 "metadata": {
  "kernelspec": {
   "display_name": "Python 3 (ipykernel)",
   "language": "python",
   "name": "python3"
  },
  "language_info": {
   "codemirror_mode": {
    "name": "ipython",
    "version": 3
   },
   "file_extension": ".py",
   "mimetype": "text/x-python",
   "name": "python",
   "nbconvert_exporter": "python",
   "pygments_lexer": "ipython3",
   "version": "3.12.6"
  }
 },
 "nbformat": 4,
 "nbformat_minor": 5
}
